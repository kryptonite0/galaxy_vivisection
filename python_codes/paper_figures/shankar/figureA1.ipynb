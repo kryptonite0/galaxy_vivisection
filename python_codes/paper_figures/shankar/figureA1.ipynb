{
 "metadata": {
  "name": "figureA1"
 },
 "nbformat": 3,
 "nbformat_minor": 0,
 "worksheets": [
  {
   "cells": [
    {
     "cell_type": "heading",
     "level": 3,
     "metadata": {},
     "source": [
      "Initial settings (change parameters here!!!):"
     ]
    },
    {
     "cell_type": "code",
     "collapsed": false,
     "input": [
      "# data-file path:\n",
      "dataFileName = '/Users/gsavorgnan/galaxy_vivisection/python_codes/paper_figures/shankar/Shankar_data.dat'\n",
      "\n",
      "# linear regression method for BCES routine:\n",
      "# 0 for OLS(Y|X); 1 for OLS(X|Y); 2 for bisector; 3 for orthogonal\n",
      "linregr_index = 2 \n",
      "linregr_label_dict = {0:'OLS(Y|X)', 1:'OLS(X|Y)', 2:'BISECTOR', 3:'ORTHOGONAL'}"
     ],
     "language": "python",
     "metadata": {},
     "outputs": [],
     "prompt_number": 57
    },
    {
     "cell_type": "heading",
     "level": 3,
     "metadata": {},
     "source": [
      "Import libraries and read data:"
     ]
    },
    {
     "cell_type": "code",
     "collapsed": false,
     "input": [
      "#import sqlite3 as sql3\n",
      "import os\n",
      "import numpy as np\n",
      "import matplotlib.pyplot as plt\n",
      "import matplotlib\n",
      "import matplotlib.colors as mcolors\n",
      "import matplotlib.image as image\n",
      "\n",
      "from scipy import stats\n",
      "from instruments.linear_regression import bces\n",
      "#from instruments.linear_regression import predband\n",
      "#from instruments.linear_regression import fitexy\n",
      "#from instruments import b_n\n",
      "#from instruments.linear_regression import colorline\n",
      "#from instruments.linear_regression import akaike\n",
      "#from instruments.linear_regression import absolutescatter\n",
      "#from instruments.linear_regression import lnr\n",
      "#from instruments.markers import markers\n",
      "\n",
      "from matplotlib import rc\n",
      "rc('font',**{'family':'sans-serif','sans-serif':['CenturyGothic']})\n",
      "## for Palatino and other serif fonts use:\n",
      "#rc('font',**{'family':'serif','serif':['Palatino']})\n",
      "rc('text', usetex=True)\n",
      "\n",
      "matplotlib.rcParams.update({'font.size': 20})\n",
      "\n",
      "# read data into arrays\n",
      "\n",
      "dataFile = open(dataFileName)\n",
      "\n",
      "gal_id = []\t\n",
      "simplemorphtype = []\n",
      "log_mbh = []    \n",
      "perr_log_mbh = []\n",
      "merr_log_mbh = []\n",
      "log_sigma = []\n",
      "err_log_sigma = []\n",
      "mag_sph = []\n",
      "perr_mag_sph = []\n",
      "merr_mag_sph = []     \n",
      "mag_tot = []\n",
      "err_mag_tot = []\n",
      "log_re_maj = []\n",
      "perr_log_re_maj = []\n",
      "merr_log_re_maj = []\n",
      "\n",
      "for line in dataFile:\n",
      "    if line.split()[0] != '#':\n",
      "        gal_id.append(line.split()[0])\n",
      "        simplemorphtype.append(str(line.split()[1]))\n",
      "        log_mbh.append(float(line.split()[2]))\n",
      "        perr_log_mbh.append(float(line.split()[3]))\n",
      "        merr_log_mbh.append(float(line.split()[4]))\n",
      "        log_sigma.append(float(line.split()[5]))\n",
      "        err_log_sigma.append(float(line.split()[6]))\n",
      "        mag_sph.append(float(line.split()[7]))\n",
      "        perr_mag_sph.append(float(line.split()[8]))\n",
      "        merr_mag_sph.append(float(line.split()[9]))\n",
      "        mag_tot.append(float(line.split()[10]))\n",
      "        err_mag_tot.append(float(line.split()[11]))\n",
      "        log_re_maj.append(float(line.split()[12]))\n",
      "        perr_log_re_maj.append(float(line.split()[13]))\n",
      "        merr_log_re_maj.append(float(line.split()[14]))\n",
      "\n",
      "dataFile.close()\n",
      "\n",
      "log_mbh = np.asarray(log_mbh)\n",
      "perr_log_mbh = np.asarray(perr_log_mbh)\n",
      "merr_log_mbh = np.asarray(merr_log_mbh)\n",
      "log_sigma = np.asarray(log_sigma)\n",
      "err_log_sigma = np.asarray(err_log_sigma)\n",
      "mag_sph = np.asarray(mag_sph)\n",
      "perr_mag_sph = np.asarray(perr_mag_sph)\n",
      "merr_mag_sph = np.asarray(merr_mag_sph)\n",
      "mag_tot = np.asarray(mag_tot)\n",
      "err_mag_tot = np.asarray(err_mag_tot)\n",
      "log_re_maj = np.asarray(log_re_maj)\n",
      "perr_log_re_maj = np.asarray(perr_log_re_maj)\n",
      "merr_log_re_maj = np.asarray(merr_log_re_maj)\n",
      "\n",
      "# calculate total stellar mass assuming M/L=0.6\n",
      "ML = 0.6\n",
      "mass_tot = ML*10**(-0.4*(mag_tot-3.25))\n",
      "perr_mass_tot = ML*10**(-0.4*(mag_tot+err_mag_tot-3.25)) - mass_tot\n",
      "merr_mass_tot = -ML*10**(-0.4*(mag_tot-err_mag_tot-3.25)) + mass_tot\n",
      "\t\n",
      "log_mass_tot = np.log10(mass_tot)\n",
      "perr_log_mass_tot = np.log10(1+perr_mass_tot/mass_tot)\n",
      "merr_log_mass_tot = -np.log10(1-merr_mass_tot/mass_tot)"
     ],
     "language": "python",
     "metadata": {},
     "outputs": [],
     "prompt_number": 58
    },
    {
     "cell_type": "raw",
     "metadata": {},
     "source": [
      "Compute <log(Mbh)|log(Msph)> regressions using BCES routine."
     ]
    },
    {
     "cell_type": "code",
     "collapsed": false,
     "input": [
      "print 'sample size: ', len(log_mbh)\n",
      "A,B,Aerr,Berr,covAB=bces.bces(log_mass_tot-np.average(log_mass_tot), 0.5*(perr_log_mass_tot + merr_log_mass_tot),\n",
      "    log_mbh, 0.5*(merr_log_mbh + perr_log_mbh), log_mass_tot*[0.0])\n",
      "print 'Y = log(Mbh), X = log(Msph)'\n",
      "print 'Y = A*(X-<X>) + B '\n",
      "print '<X> =', \"{0:.2f}\".format(np.average(log_mass_tot))\n",
      "print 'OLS(Y|X)    A =', \"{0:.2f}\".format(A[0]), '\\pm', \"{0:.2f}\".format(Aerr[0]), '   B = ', \"{0:.2f}\".format(B[0]), '\\pm', \"{0:.2f}\".format(Berr[0])\n",
      "print 'OLS(X|Y)    A =', \"{0:.2f}\".format(A[1]), '\\pm', \"{0:.2f}\".format(Aerr[1]), '   B = ', \"{0:.2f}\".format(B[1]), '\\pm', \"{0:.2f}\".format(Berr[1])\n",
      "print 'bisector    A =', \"{0:.2f}\".format(A[2]), '\\pm', \"{0:.2f}\".format(Aerr[2]), '   B = ', \"{0:.2f}\".format(B[2]), '\\pm', \"{0:.2f}\".format(Berr[2])\n",
      "print 'orthogonal  A =', \"{0:.2f}\".format(A[3]), '\\pm', \"{0:.2f}\".format(Aerr[3]), '   B = ', \"{0:.2f}\".format(B[3]), '\\pm', \"{0:.2f}\".format(Berr[3])"
     ],
     "language": "python",
     "metadata": {},
     "outputs": [
      {
       "output_type": "stream",
       "stream": "stdout",
       "text": [
        "sample size:  48\n",
        "Y = log(Mbh), X = log(Msph)\n",
        "Y = A*(X-<X>) + B \n",
        "<X> = 10.94\n",
        "OLS(Y|X)    A = 1.31 \\pm 0.17    B =  8.26 \\pm 0.09\n",
        "OLS(X|Y)    A = 2.61 \\pm 0.46    B =  8.26 \\pm 0.12\n",
        "bisector    A = 1.79 \\pm 0.20    B =  8.26 \\pm 0.09\n",
        "orthogonal  A = 2.28 \\pm 0.42    B =  8.26 \\pm 0.11\n"
       ]
      }
     ],
     "prompt_number": 59
    },
    {
     "cell_type": "raw",
     "metadata": {},
     "source": [
      "Compute log(Mbh) - <log(Mbh)|log(Mtot)> residuals using bisector fit."
     ]
    },
    {
     "cell_type": "code",
     "collapsed": false,
     "input": [
      "residual_Mbh_Mtot = log_mbh - (A[linregr_index]*(log_mass_tot-np.average(log_mass_tot)) + B[linregr_index])\n",
      "#print residual_Mbh_Msph"
     ],
     "language": "python",
     "metadata": {},
     "outputs": [],
     "prompt_number": 60
    },
    {
     "cell_type": "raw",
     "metadata": {},
     "source": [
      "Compute <log(sigma)|log(Mtot)> regressions using BCES routine."
     ]
    },
    {
     "cell_type": "code",
     "collapsed": false,
     "input": [
      "print 'sample size: ', len(log_sigma)\n",
      "A,B,Aerr,Berr,covAB=bces.bces(log_mass_tot-np.average(log_mass_tot), 0.5*(perr_log_mass_tot + merr_log_mass_tot),\n",
      "    log_sigma, err_log_sigma, log_mass_tot*[0.0])\n",
      "print 'Y = log(sigma), X = log(Msph)'\n",
      "print 'Y = A*(X-<X>) + B '\n",
      "print '<X> =', \"{0:.2f}\".format(np.average(log_mass_tot))\n",
      "print 'OLS(Y|X)    A =', \"{0:.2f}\".format(A[0]), '\\pm', \"{0:.2f}\".format(Aerr[0]), '   B = ', \"{0:.2f}\".format(B[0]), '\\pm', \"{0:.2f}\".format(Berr[0])\n",
      "print 'OLS(X|Y)    A =', \"{0:.2f}\".format(A[1]), '\\pm', \"{0:.2f}\".format(Aerr[1]), '   B = ', \"{0:.2f}\".format(B[1]), '\\pm', \"{0:.2f}\".format(Berr[1])\n",
      "print 'bisector    A =', \"{0:.2f}\".format(A[2]), '\\pm', \"{0:.2f}\".format(Aerr[2]), '   B = ', \"{0:.2f}\".format(B[2]), '\\pm', \"{0:.2f}\".format(Berr[2])\n",
      "print 'orthogonal  A =', \"{0:.2f}\".format(A[3]), '\\pm', \"{0:.2f}\".format(Aerr[3]), '   B = ', \"{0:.2f}\".format(B[3]), '\\pm', \"{0:.2f}\".format(Berr[3])"
     ],
     "language": "python",
     "metadata": {},
     "outputs": [
      {
       "output_type": "stream",
       "stream": "stdout",
       "text": [
        "sample size:  48\n",
        "Y = log(sigma), X = log(Msph)\n",
        "Y = A*(X-<X>) + B \n",
        "<X> = 10.94\n",
        "OLS(Y|X)    A = 0.21 \\pm 0.04    B =  2.31 \\pm 0.02\n",
        "OLS(X|Y)    A = 0.47 \\pm 0.08    B =  2.31 \\pm 0.02\n",
        "bisector    A = 0.34 \\pm 0.04    B =  2.31 \\pm 0.02\n",
        "orthogonal  A = 0.23 \\pm 0.04    B =  2.31 \\pm 0.02\n"
       ]
      }
     ],
     "prompt_number": 61
    },
    {
     "cell_type": "raw",
     "metadata": {},
     "source": [
      "Compute log(sigma) - <log(sigma)|log(Mtot)> residuals using bisector fit."
     ]
    },
    {
     "cell_type": "code",
     "collapsed": false,
     "input": [
      "residual_sigma_Mtot = log_sigma - (A[linregr_index]*(log_mass_tot-np.average(log_mass_tot)) + B[linregr_index])\n",
      "#print residual_Mbh_Msph"
     ],
     "language": "python",
     "metadata": {},
     "outputs": [],
     "prompt_number": 62
    },
    {
     "cell_type": "raw",
     "metadata": {},
     "source": [
      "Create Figure A1 top left panel:"
     ]
    },
    {
     "cell_type": "code",
     "collapsed": false,
     "input": [
      "print 'sample size: ', len(residual_sigma_Mtot)\n",
      "A,B,Aerr,Berr,covAB=bces.bces(residual_sigma_Mtot-np.average(residual_sigma_Mtot), err_log_sigma,\n",
      "    residual_Mbh_Mtot, 0.5*(perr_log_mbh + merr_log_mbh), residual_sigma_Mtot*[0.0])\n",
      "print 'Y = log(sigma), X = log(Msph)'\n",
      "print 'Y = A*(X-<X>) + B '\n",
      "print '<X> =', \"{0:.2f}\".format(np.average(residual_sigma_Mtot))\n",
      "print 'OLS(Y|X)    A =', \"{0:.2f}\".format(A[0]), '\\pm', \"{0:.2f}\".format(Aerr[0]), '   B = ', \"{0:.2f}\".format(B[0]), '\\pm', \"{0:.2f}\".format(Berr[0])\n",
      "print 'OLS(X|Y)    A =', \"{0:.2f}\".format(A[1]), '\\pm', \"{0:.2f}\".format(Aerr[1]), '   B = ', \"{0:.2f}\".format(B[1]), '\\pm', \"{0:.2f}\".format(Berr[1])\n",
      "print 'bisector    A =', \"{0:.2f}\".format(A[2]), '\\pm', \"{0:.2f}\".format(Aerr[2]), '   B = ', \"{0:.2f}\".format(B[2]), '\\pm', \"{0:.2f}\".format(Berr[2])\n",
      "print 'orthogonal  A =', \"{0:.2f}\".format(A[3]), '\\pm', \"{0:.2f}\".format(Aerr[3]), '   B = ', \"{0:.2f}\".format(B[3]), '\\pm', \"{0:.2f}\".format(Berr[3])\n",
      "\n",
      "\n",
      "fig, ax = plt.subplots()\n",
      "\n",
      "logxx = np.arange(np.min(residual_sigma_Mtot),np.max(residual_sigma_Mtot),0.01)\n",
      "yy = (A[linregr_index]*(logxx) + B[linregr_index])\n",
      "ax.plot((logxx+np.average(residual_sigma_Mtot)),yy, color='k', ls='-', linewidth=2.)\n",
      "\n",
      "       \n",
      "##### calculates 1sigma uncertainty band\n",
      "yy_1 = ((A[linregr_index]+Aerr[linregr_index])*(logxx) + (B[linregr_index]+Berr[linregr_index]))\n",
      "yy_2 = ((A[linregr_index]-Aerr[linregr_index])*(logxx) + (B[linregr_index]+Berr[linregr_index]))\n",
      "yy_3 = ((A[linregr_index]+Aerr[linregr_index])*(logxx) + (B[linregr_index]-Berr[linregr_index]))\n",
      "yy_4 = ((A[linregr_index]-Aerr[linregr_index])*(logxx) + (B[linregr_index]-Berr[linregr_index]))\n",
      "yy_up = yy_1*[0.0]\n",
      "for i in range(len(yy_1)):\n",
      "    if yy_1[i] > yy_2[i]:\n",
      "         yy_up[i] = yy_1[i]\n",
      "    elif yy_1[i] <= yy_2[i]:\n",
      "         yy_up[i] = yy_2[i]\t\n",
      "yy_up = np.asarray(yy_up)\n",
      "yy_lo = yy_1*[0.0]\n",
      "for i in range(len(yy_3)):\n",
      "    if yy_3[i] < yy_4[i]:\n",
      "         yy_lo[i] = yy_3[i]\n",
      "    elif yy_3[i] >= yy_4[i]:\n",
      "         yy_lo[i] = yy_4[i]\t\n",
      "yy_lo = np.asarray(yy_lo)\n",
      "        \t\t\t\n",
      "ax.fill_between((logxx+np.average(residual_sigma_Mtot)), yy_lo, yy_up, alpha=0.3, facecolor='k')\n",
      "ax.text(0.1, -1.5, r'$\\propto \\sigma^{' + \"{0:.2f}\".format(A[linregr_index]) + '}$', fontsize=30)\n",
      "ax.text(-0.35, 1.0,  r'$' + str(linregr_label_dict[linregr_index]) + '$', fontsize=20) \n",
      "\n",
      "#ax.scatter(residual_sigma_Mtot, residual_Mbh_Mtot)\t\n",
      "ax.errorbar(residual_sigma_Mtot, residual_Mbh_Mtot, xerr=err_log_sigma, yerr=[merr_log_mbh,perr_log_mbh], \n",
      "    ecolor='blue', marker='d', mfc='blue', mec='blue', mew=1.5, markersize=8, ls=' ', elinewidth=1.2, capthick=1.2, barsabove=False)\n",
      "\n",
      "#plt.axis([10**8.6,10**12.3,10**5.3,10**11.2])\n",
      "plt.xlabel(r'$\\log(\\sigma) - <\\log(\\sigma)|\\log(M_{tot})>$', labelpad=13)\n",
      "plt.ylabel(r'$\\log(M_{BH}) - <\\log(M_{BH})|\\log(M_{tot})>$', labelpad=13)\n",
      "plt.subplots_adjust(left=0.2,bottom=0.15,right=0.97,top=0.9)\n",
      "plt.show()\n"
     ],
     "language": "python",
     "metadata": {},
     "outputs": [
      {
       "output_type": "stream",
       "stream": "stdout",
       "text": [
        "sample size:  48\n",
        "Y = log(sigma), X = log(Msph)\n",
        "Y = A*(X-<X>) + B \n",
        "<X> = 0.00\n",
        "OLS(Y|X)    A = 4.50 \\pm 0.43    B =  0.00 \\pm 0.05\n",
        "OLS(X|Y)    A = 6.05 \\pm 0.73    B =  0.00 \\pm 0.06\n",
        "bisector    A = 5.17 \\pm 0.49    B =  0.00 \\pm 0.05\n",
        "orthogonal  A = 6.00 \\pm 0.72    B =  0.00 \\pm 0.06\n"
       ]
      },
      {
       "output_type": "display_data",
       "png": "[encoded data removed]"
      }
     ],
     "prompt_number": 63
    },
    {
     "cell_type": "code",
     "collapsed": false,
     "input": [],
     "language": "python",
     "metadata": {},
     "outputs": []
    },
    {
     "cell_type": "code",
     "collapsed": false,
     "input": [],
     "language": "python",
     "metadata": {},
     "outputs": []
    }
   ],
   "metadata": {}
  }
 ]
}