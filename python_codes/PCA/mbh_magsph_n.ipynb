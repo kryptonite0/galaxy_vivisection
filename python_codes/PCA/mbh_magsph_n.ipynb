{
 "metadata": {
  "name": "mbh_magsph_n"
 },
 "nbformat": 3,
 "nbformat_minor": 0,
 "worksheets": [
  {
   "cells": [
    {
     "cell_type": "code",
     "collapsed": false,
     "input": [
      "#%pylab inline\n",
      "import sqlite3 as sql3\n",
      "import os\n",
      "import numpy as np\n",
      "import matplotlib.pyplot as plt\n",
      "import matplotlib\n",
      "import matplotlib.colors as mcolors\n",
      "from scipy import stats\n",
      "from instruments.linear_regression import bces\n",
      "from instruments import b_n\n",
      "\n",
      "from mpl_toolkits.mplot3d import Axes3D\n",
      "from mpl_toolkits.mplot3d import proj3d\n",
      "from matplotlib.patches import FancyArrowPatch\n",
      "\n",
      "class Arrow3D(FancyArrowPatch):\n",
      "    def __init__(self, xs, ys, zs, *args, **kwargs):\n",
      "        FancyArrowPatch.__init__(self, (0,0), (0,0), *args, **kwargs)\n",
      "        self._verts3d = xs, ys, zs\n",
      "\n",
      "    def draw(self, renderer):\n",
      "        xs3d, ys3d, zs3d = self._verts3d\n",
      "        xs, ys, zs = proj3d.proj_transform(xs3d, ys3d, zs3d, renderer.M)\n",
      "        self.set_positions((xs[0],ys[0]),(xs[1],ys[1]))\n",
      "        FancyArrowPatch.draw(self, renderer)\n",
      "\n",
      "dbname = '/Users/gsavorgnan/galaxy_vivisection/python_codes/databases/galaxy_vivisection.db'"
     ],
     "language": "python",
     "metadata": {},
     "outputs": [],
     "prompt_number": 1
    },
    {
     "cell_type": "heading",
     "level": 1,
     "metadata": {},
     "source": [
      "Obtain the data from database"
     ]
    },
    {
     "cell_type": "code",
     "collapsed": false,
     "input": [
      "connection = sql3.connect(dbname)\n",
      "cur = connection.cursor()\n",
      "\n",
      "getdata_query = 'SELECT anc.gal_id, anc.simplemorphtype, anc.core, anc.bar, \\\n",
      "\tanc.mass_BH, anc.perr_mass_BH, anc.merr_mass_BH, anc.sigma, \\\n",
      "\tphysres.mag_sph_eq_moffat_comb, physres.mag_tot_eq_moffat_comb, \\\n",
      "\tphysres.log_n_maj_moffat_comb, physres.log_n_eq_moffat_comb, \\\n",
      "\tphysres.mu_e_maj_moffat_comb, physres.mu_e_eq_moffat_comb, \\\n",
      "\tphysres.log_r_e_maj_moffat_comb, physres.log_r_e_eq_moffat_comb \\\n",
      "\tFROM Ancillary AS anc \\\n",
      "\tJOIN OneDFitResultsPhysicalUnits AS physres ON anc.gal_id = physres.gal_id \\\n",
      "\tWHERE anc.fit1D_done = 1;'\n",
      "\n",
      "cur.execute(getdata_query)\n",
      "datalist = cur.fetchall()\n",
      "data= np.asarray(datalist).transpose()\n",
      "#print data\n",
      "gal_id = data[0]\n",
      "simplemorphtype = data[1]\n",
      "core = data[2].astype(np.int)\n",
      "bar = data[3].astype(np.int)\n",
      "\n",
      "mbh = data[4].astype(np.float)\n",
      "log_mbh = np.log10(mbh)\n",
      "perr_mbh = data[5].astype(np.float)\n",
      "merr_mbh = data[6].astype(np.float)\n",
      "perr_log_mbh = np.log10(1 + perr_mbh/mbh)\n",
      "merr_log_mbh = -np.log10(1 - merr_mbh/mbh)\n",
      "\n",
      "sigma = data[7].astype(np.float)\n",
      "# assign value to n3079\n",
      "sigma[gal_id=='n3079'] = 105\n",
      "log_sigma = np.log10(sigma)\n",
      "err_log_sigma = sigma*[0.0] + np.log10(1.05)\n",
      "\n",
      "mag_sph = data[8].astype(np.float)\n",
      "mag_tot = data[9].astype(np.float)\n",
      "\n",
      "log_n_maj = data[10].astype(np.float)\n",
      "n_maj = 10**log_n_maj\n",
      "log_n_eq = data[11].astype(np.float)\n",
      "n_eq = 10**log_n_eq\n",
      "\n",
      "mu_e_maj = data[12].astype(np.float)\n",
      "mu_e_eq = data[13].astype(np.float)\n",
      "\n",
      "# compute mu_0\n",
      "b_maj = mu_e_maj * [0.0]\n",
      "for i in range(len(b_maj)):\n",
      "\tb_maj[i] = b_n.computeb_n(n_maj[i])\n",
      "b_eq = mu_e_eq * [0.0]\n",
      "for i in range(len(b_eq)):\n",
      "\tb_eq[i] = b_n.computeb_n(n_eq[i])\n",
      "\n",
      "mu_0_maj = mu_e_maj - 2.5*b_maj/np.log(10)\n",
      "mu_0_eq = mu_e_eq - 2.5*b_eq/np.log(10)\n",
      "\n",
      "log_r_e_maj = data[14].astype(np.float)\n",
      "r_e_maj = 10**log_r_e_maj\n",
      "log_r_e_eq = data[15].astype(np.float)\n",
      "r_e_eq = 10**log_r_e_eq"
     ],
     "language": "python",
     "metadata": {},
     "outputs": [],
     "prompt_number": 2
    },
    {
     "cell_type": "heading",
     "level": 1,
     "metadata": {},
     "source": [
      "Build 3-dimensional dataset"
     ]
    },
    {
     "cell_type": "code",
     "collapsed": false,
     "input": [
      "all_samples = np.array([log_mbh, mag_sph, log_n_maj])"
     ],
     "language": "python",
     "metadata": {},
     "outputs": [],
     "prompt_number": 3
    },
    {
     "cell_type": "heading",
     "level": 1,
     "metadata": {},
     "source": [
      "Visual inspection of data"
     ]
    },
    {
     "cell_type": "code",
     "collapsed": false,
     "input": [
      "from matplotlib import pyplot as plt\n",
      "from mpl_toolkits.mplot3d import Axes3D\n",
      "from mpl_toolkits.mplot3d import proj3d\n",
      "\n",
      "fig = plt.figure(figsize=(8,8))\n",
      "ax = fig.add_subplot(111, projection='3d')\n",
      "plt.rcParams['legend.fontsize'] = 10   \n",
      "ax.plot(all_samples[0,:], all_samples[1,:], all_samples[2,:], \n",
      "        'o', markersize=8, color='red', alpha=0.5)\n",
      "\n",
      "\n",
      "plt.show()"
     ],
     "language": "python",
     "metadata": {},
     "outputs": [],
     "prompt_number": 4
    },
    {
     "cell_type": "heading",
     "level": 1,
     "metadata": {},
     "source": [
      "Using the PCA() class from the sklearn.decomposition library "
     ]
    },
    {
     "cell_type": "code",
     "collapsed": false,
     "input": [
      "all_samples.T.shape\n",
      "#print all_samples.T"
     ],
     "language": "python",
     "metadata": {},
     "outputs": [
      {
       "output_type": "pyout",
       "prompt_number": 5,
       "text": [
        "(66, 3)"
       ]
      }
     ],
     "prompt_number": 5
    },
    {
     "cell_type": "code",
     "collapsed": false,
     "input": [
      "average_matrix = np.array([np.average(all_samples.T, axis=0),]*66)\n",
      "all_samples_T_norm = all_samples.T - average_matrix"
     ],
     "language": "python",
     "metadata": {},
     "outputs": [],
     "prompt_number": 6
    },
    {
     "cell_type": "code",
     "collapsed": false,
     "input": [
      "from sklearn.decomposition import PCA as sklearnPCA\n",
      "\n",
      "sklearn_pca = sklearnPCA(n_components=3)\n",
      "sklearn_transf = sklearn_pca.fit_transform(all_samples_T_norm)"
     ],
     "language": "python",
     "metadata": {},
     "outputs": [],
     "prompt_number": 7
    },
    {
     "cell_type": "code",
     "collapsed": false,
     "input": [
      "sklearn_transf.shape"
     ],
     "language": "python",
     "metadata": {},
     "outputs": [
      {
       "output_type": "pyout",
       "prompt_number": 8,
       "text": [
        "(66, 3)"
       ]
      }
     ],
     "prompt_number": 8
    },
    {
     "cell_type": "code",
     "collapsed": false,
     "input": [
      "# this has to be zero\n",
      "#all_samples_T_norm - np.dot(sklearn_transf, sklearn_pca.components_)"
     ],
     "language": "python",
     "metadata": {},
     "outputs": [],
     "prompt_number": 9
    },
    {
     "cell_type": "code",
     "collapsed": false,
     "input": [
      "print sklearn_pca.explained_variance_ratio_"
     ],
     "language": "python",
     "metadata": {},
     "outputs": [
      {
       "output_type": "stream",
       "stream": "stdout",
       "text": [
        "[ 0.93289244  0.0605686   0.00653896]\n"
       ]
      }
     ],
     "prompt_number": 10
    },
    {
     "cell_type": "code",
     "collapsed": false,
     "input": [
      "sklearn_pca.components_.shape\n",
      "u = sklearn_pca.components_[0,:]\n",
      "v = sklearn_pca.components_[1,:]\n",
      "n = sklearn_pca.components_[2,:]\n",
      "print 'first eigenv.', u\n",
      "print 'second eigenv.', v\n",
      "print 'third eigenv.', n\n",
      "\n",
      "# cross product\n",
      "#n = np.cross(u,v)\n",
      "#print 'n = ', n\n"
     ],
     "language": "python",
     "metadata": {},
     "outputs": [
      {
       "output_type": "stream",
       "stream": "stdout",
       "text": [
        "first eigenv. [ 0.3982292  -0.9079791   0.13033594]\n",
        "second eigenv. [-0.9114569  -0.40767679 -0.0551901 ]\n",
        "third eigenv. [-0.10324639  0.09681728  0.98993262]\n"
       ]
      }
     ],
     "prompt_number": 11
    },
    {
     "cell_type": "code",
     "collapsed": false,
     "input": [
      "fig = plt.figure(figsize=(7,7))\n",
      "ax = fig.add_subplot(111, projection='3d')\n",
      "\n",
      "ax.plot(log_mbh-np.mean(log_mbh), mag_sph-np.mean(mag_sph), log_n_maj-np.mean(log_n_maj),  \n",
      "        'o', markersize=8, color='green', alpha=0.2)\n",
      "#ax.plot([np.mean(log_mbh)], [np.mean(log_sigma)], [np.mean(log_r_e_maj)],  \n",
      "#        'o', markersize=10, color='red', alpha=0.5)\n",
      "\n",
      "for k in sklearn_pca.components_:\n",
      "    print k\n",
      "    a = Arrow3D([0, k[0]], \n",
      "                [0, k[1]], \n",
      "                [0, k[2]], \n",
      "                mutation_scale=20, lw=3, arrowstyle=\"-|>\", color=\"r\")\n",
      "\n",
      "    ax.add_artist(a)\n",
      "ax.set_xlabel('log(Mbh)')\n",
      "ax.set_ylabel('MAG_sph')\n",
      "ax.set_zlabel('log(n)')\n",
      "\n",
      "xx,yy = np.meshgrid(np.arange(-5,5), np.arange(-5,5))\n",
      "zz1 = (-n[0]/n[2])*xx + (-n[1]/n[2])*yy\n",
      "ax.plot_surface(xx,yy,zz1, alpha=0.1, color='blue')\n",
      "\n",
      "\n",
      "\n",
      "plt.title('Eigenvectors')\n",
      "\n",
      "plt.show()"
     ],
     "language": "python",
     "metadata": {},
     "outputs": [
      {
       "output_type": "stream",
       "stream": "stdout",
       "text": [
        "[ 0.3982292  -0.9079791   0.13033594]\n",
        "[-0.9114569  -0.40767679 -0.0551901 ]\n",
        "[-0.10324639  0.09681728  0.98993262]\n"
       ]
      }
     ],
     "prompt_number": 16
    },
    {
     "cell_type": "heading",
     "level": 1,
     "metadata": {},
     "source": [
      "Fundamental plane"
     ]
    },
    {
     "cell_type": "code",
     "collapsed": false,
     "input": [
      "from instruments.linear_regression import bces\n",
      "\n",
      "plt.plot((mag_sph-np.average(mag_sph)),log_mbh-np.average(log_mbh), 'o', markersize=7, color='blue', alpha=0.5, label='all')\n",
      "plt.xlabel('mag')\n",
      "plt.ylabel('log mbh')\n",
      "\n",
      "A,B,Aerr,Berr,covAB=bces.bces(mag_sph-np.average(mag_sph),mag_sph*[0.0]+0.3, \n",
      "    log_mbh-np.average(log_mbh),0.5*(merr_log_mbh + perr_log_mbh), mag_sph*[0.0])\n",
      "print 'bisector    A =', \"{0:.4f}\".format(A[2]), '+-', \"{0:.4f}\".format(Aerr[2]), '   B = ', \"{0:.4f}\".format(B[2]), '+-', \"{0:.4f}\".format(Berr[2])\n",
      "\n",
      "yy = (A[2]*(mag_sph-np.average(mag_sph)) + B[2])\n",
      "plt.plot(mag_sph-np.average(mag_sph),yy, color='k', ls='-', linewidth=1.5)\n",
      "\n",
      "plt.show()"
     ],
     "language": "python",
     "metadata": {},
     "outputs": [
      {
       "output_type": "stream",
       "stream": "stdout",
       "text": [
        "bisector    A = -0.5073 +- 0.0361    B =  0.0000 +- 0.0719\n"
       ]
      }
     ],
     "prompt_number": 17
    },
    {
     "cell_type": "code",
     "collapsed": false,
     "input": [
      "plt.plot(log_n_maj, log_mbh - np.average(log_mbh) - yy, 'o', markersize=7, color='blue', alpha=0.5, label='all')\n",
      "plt.xlabel('log R_e')\n",
      "plt.ylabel('m-m residuals')\n",
      "\n",
      "plt.show()"
     ],
     "language": "python",
     "metadata": {},
     "outputs": [],
     "prompt_number": 18
    },
    {
     "cell_type": "code",
     "collapsed": false,
     "input": [],
     "language": "python",
     "metadata": {},
     "outputs": []
    }
   ],
   "metadata": {}
  }
 ]
}