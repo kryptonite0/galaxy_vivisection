{
 "metadata": {
  "name": "any3"
 },
 "nbformat": 3,
 "nbformat_minor": 0,
 "worksheets": [
  {
   "cells": [
    {
     "cell_type": "code",
     "collapsed": false,
     "input": [
      "%pylab inline\n",
      "import sqlite3 as sql3\n",
      "import os\n",
      "import numpy as np\n",
      "import matplotlib.pyplot as plt\n",
      "import matplotlib\n",
      "import matplotlib.colors as mcolors\n",
      "from scipy import stats\n",
      "from instruments.linear_regression import bces\n",
      "from instruments import b_n\n",
      "from scipy.optimize import curve_fit\n",
      "\n",
      "from mpl_toolkits.mplot3d import Axes3D\n",
      "from mpl_toolkits.mplot3d import proj3d\n",
      "from matplotlib.patches import FancyArrowPatch\n",
      "\n",
      "class Arrow3D(FancyArrowPatch):\n",
      "    def __init__(self, xs, ys, zs, *args, **kwargs):\n",
      "        FancyArrowPatch.__init__(self, (0,0), (0,0), *args, **kwargs)\n",
      "        self._verts3d = xs, ys, zs\n",
      "\n",
      "    def draw(self, renderer):\n",
      "        xs3d, ys3d, zs3d = self._verts3d\n",
      "        xs, ys, zs = proj3d.proj_transform(xs3d, ys3d, zs3d, renderer.M)\n",
      "        self.set_positions((xs[0],ys[0]),(xs[1],ys[1]))\n",
      "        FancyArrowPatch.draw(self, renderer)\n",
      "\n",
      "dbname = '/Users/gsavorgnan/galaxy_vivisection/python_codes/databases/galaxy_vivisection.db'"
     ],
     "language": "python",
     "metadata": {},
     "outputs": [
      {
       "output_type": "stream",
       "stream": "stdout",
       "text": [
        "\n",
        "Welcome to pylab, a matplotlib-based Python environment [backend: module://IPython.zmq.pylab.backend_inline].\n",
        "For more information, type 'help(pylab)'.\n"
       ]
      }
     ],
     "prompt_number": 5
    },
    {
     "cell_type": "heading",
     "level": 1,
     "metadata": {},
     "source": [
      "Obtain the data from database"
     ]
    },
    {
     "cell_type": "code",
     "collapsed": false,
     "input": [
      "connection = sql3.connect(dbname)\n",
      "cur = connection.cursor()\n",
      "\n",
      "getdata_query = 'SELECT anc.gal_id, anc.simplemorphtype, anc.core, anc.bar, \\\n",
      "\tanc.mass_BH, anc.perr_mass_BH, anc.merr_mass_BH, anc.sigma, \\\n",
      "\tphysres.mag_sph_eq_moffat_comb, physres.mag_tot_eq_moffat_comb, \\\n",
      "\tphysres.log_n_maj_moffat_comb, physres.log_n_eq_moffat_comb, \\\n",
      "\tphysres.mu_e_maj_moffat_comb, physres.mu_e_eq_moffat_comb, \\\n",
      "\tphysres.log_r_e_maj_moffat_comb, physres.log_r_e_eq_moffat_comb, \\\n",
      "\terrV.perr_mag_sph, errV.merr_mag_sph, \\\n",
      "\terrV.perr_log_n, errV.merr_log_n, \\\n",
      "\terrV.perr_mu_e, errV.merr_mu_e, \\\n",
      "    errV.perr_log_r_e, errV.merr_log_r_e, \\\n",
      "\terrV.perr_mu_0, errV.merr_mu_0 \\\n",
      "\tFROM Ancillary AS anc \\\n",
      "\tJOIN OneDFitResultsPhysicalUnits AS physres ON anc.gal_id = physres.gal_id \\\n",
      "\tJOIN ErrorsVote as errV ON anc.gal_id = errV.gal_id \\\n",
      "\tWHERE anc.fit1D_done = 1;'\n",
      "\n",
      "cur.execute(getdata_query)\n",
      "datalist = cur.fetchall()\n",
      "data= np.asarray(datalist).transpose()\n",
      "\n",
      "gal_id = data[0]\n",
      "simplemorphtype = data[1]\n",
      "core = data[2].astype(np.int)\n",
      "bar = data[3].astype(np.int)\n",
      "\n",
      "earlytype = np.zeros(len(gal_id))\n",
      "for i in range(len(gal_id)):\n",
      "    if simplemorphtype[i]=='E' or simplemorphtype[i]=='E/S0' or simplemorphtype[i]=='S0':\n",
      "        earlytype[i] = 1\n",
      "latetype = np.zeros(len(gal_id))\n",
      "for i in range(len(gal_id)):\n",
      "    if simplemorphtype[i]=='Sp':\n",
      "        latetype[i] = 1\n",
      "\n",
      "mbh = data[4].astype(np.float)\n",
      "log_mbh = np.log10(mbh)\n",
      "perr_mbh = data[5].astype(np.float)\n",
      "merr_mbh = data[6].astype(np.float)\n",
      "perr_log_mbh = np.log10(1 + perr_mbh/mbh)\n",
      "merr_log_mbh = -np.log10(1 - merr_mbh/mbh)\n",
      "\n",
      "sigma = data[7].astype(np.float)\n",
      "# assign value to n3079\n",
      "sigma[gal_id=='n3079'] = 105\n",
      "log_sigma = np.log10(sigma)\n",
      "err_log_sigma = sigma*[0.0] + np.log10(1.05)\n",
      "\n",
      "mag_sph = data[8].astype(np.float)\n",
      "mag_tot = data[9].astype(np.float)\n",
      "perr_mag_sph = data[16].astype(np.float)\n",
      "merr_mag_sph = data[17].astype(np.float)\n",
      "perr_mag_tot = np.zeros(len(gal_id)) + 0.25\n",
      "merr_mag_tot = np.zeros(len(gal_id)) + 0.25\n",
      "\n",
      "log_n_maj = data[10].astype(np.float)\n",
      "n_maj = 10**log_n_maj\n",
      "log_n_eq = data[11].astype(np.float)\n",
      "n_eq = 10**log_n_eq\n",
      "perr_log_n = data[18].astype(np.float)\n",
      "merr_log_n = data[19].astype(np.float)\n",
      "\n",
      "mu_e_maj = data[12].astype(np.float)\n",
      "mu_e_eq = data[13].astype(np.float)\n",
      "perr_mu_e = data[20].astype(np.float)\n",
      "merr_mu_e = data[21].astype(np.float)\n",
      "\n",
      "# compute mu_0\n",
      "b_maj = np.zeros(len(gal_id))\n",
      "for i in range(len(b_maj)):\n",
      "\tb_maj[i] = b_n.computeb_n(n_maj[i])\n",
      "b_eq = np.zeros(len(gal_id))\n",
      "for i in range(len(b_eq)):\n",
      "\tb_eq[i] = b_n.computeb_n(n_eq[i])\n",
      "\n",
      "mu_0_maj = mu_e_maj - 2.5*b_maj/np.log(10)\n",
      "mu_0_eq = mu_e_eq - 2.5*b_eq/np.log(10)\n",
      "perr_mu_0 = data[24].astype(np.float)\n",
      "merr_mu_0 = data[25].astype(np.float)\n",
      "\n",
      "log_r_e_maj = data[14].astype(np.float)\n",
      "#r_e_maj = 10**log_r_e_maj\n",
      "log_r_e_eq = data[15].astype(np.float)\n",
      "#r_e_eq = 10**log_r_e_eq\n",
      "perr_log_r_e = data[22].astype(np.float)\n",
      "merr_log_r_e = data[23].astype(np.float)\n"
     ],
     "language": "python",
     "metadata": {},
     "outputs": [],
     "prompt_number": 6
    },
    {
     "cell_type": "code",
     "collapsed": false,
     "input": [
      "observables = [log_sigma, log_n_maj, log_n_eq, mag_sph, mag_tot, log_r_e_maj, log_r_e_eq, mu_e_maj, mu_e_eq, mu_0_maj, mu_0_eq]\n",
      "perrs = [err_log_sigma, perr_log_n, perr_log_n, perr_mag_sph, perr_mag_tot, perr_log_r_e, perr_log_r_e, perr_mu_e, perr_mu_e, perr_mu_0, perr_mu_0]\n",
      "merrs = [err_log_sigma, merr_log_n, merr_log_n, merr_mag_sph, merr_mag_tot, merr_log_r_e, merr_log_r_e, merr_mu_e, merr_mu_e, merr_mu_0, merr_mu_0]\n"
     ],
     "language": "python",
     "metadata": {},
     "outputs": [],
     "prompt_number": 7
    },
    {
     "cell_type": "heading",
     "level": 2,
     "metadata": {},
     "source": [
      "mbh - sigma - Re"
     ]
    },
    {
     "cell_type": "code",
     "collapsed": false,
     "input": [],
     "language": "python",
     "metadata": {},
     "outputs": []
    },
    {
     "cell_type": "code",
     "collapsed": false,
     "input": [],
     "language": "python",
     "metadata": {},
     "outputs": []
    },
    {
     "cell_type": "code",
     "collapsed": false,
     "input": [],
     "language": "python",
     "metadata": {},
     "outputs": []
    }
   ],
   "metadata": {}
  }
 ]
}