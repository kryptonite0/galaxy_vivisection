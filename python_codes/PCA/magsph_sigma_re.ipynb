{
 "metadata": {
  "name": "magsph_sigma_re"
 },
 "nbformat": 3,
 "nbformat_minor": 0,
 "worksheets": [
  {
   "cells": [
    {
     "cell_type": "code",
     "collapsed": false,
     "input": [
      "%pylab inline\n",
      "import sqlite3 as sql3\n",
      "import os\n",
      "import numpy as np\n",
      "import matplotlib.pyplot as plt\n",
      "import matplotlib\n",
      "import matplotlib.colors as mcolors\n",
      "from scipy import stats\n",
      "from instruments.linear_regression import bces\n",
      "from instruments import b_n\n",
      "\n",
      "from mpl_toolkits.mplot3d import Axes3D\n",
      "from mpl_toolkits.mplot3d import proj3d\n",
      "from matplotlib.patches import FancyArrowPatch\n",
      "\n",
      "class Arrow3D(FancyArrowPatch):\n",
      "    def __init__(self, xs, ys, zs, *args, **kwargs):\n",
      "        FancyArrowPatch.__init__(self, (0,0), (0,0), *args, **kwargs)\n",
      "        self._verts3d = xs, ys, zs\n",
      "\n",
      "    def draw(self, renderer):\n",
      "        xs3d, ys3d, zs3d = self._verts3d\n",
      "        xs, ys, zs = proj3d.proj_transform(xs3d, ys3d, zs3d, renderer.M)\n",
      "        self.set_positions((xs[0],ys[0]),(xs[1],ys[1]))\n",
      "        FancyArrowPatch.draw(self, renderer)\n",
      "\n",
      "dbname = '/Users/gsavorgnan/galaxy_vivisection/python_codes/databases/galaxy_vivisection.db'"
     ],
     "language": "python",
     "metadata": {},
     "outputs": [
      {
       "output_type": "stream",
       "stream": "stdout",
       "text": [
        "\n",
        "Welcome to pylab, a matplotlib-based Python environment [backend: module://IPython.zmq.pylab.backend_inline].\n",
        "For more information, type 'help(pylab)'.\n"
       ]
      }
     ],
     "prompt_number": 1
    },
    {
     "cell_type": "heading",
     "level": 1,
     "metadata": {},
     "source": [
      "Obtain the data from database"
     ]
    },
    {
     "cell_type": "code",
     "collapsed": false,
     "input": [
      "connection = sql3.connect(dbname)\n",
      "cur = connection.cursor()\n",
      "\n",
      "getdata_query = 'SELECT anc.gal_id, anc.simplemorphtype, anc.core, anc.bar, \\\n",
      "\tanc.mass_BH, anc.perr_mass_BH, anc.merr_mass_BH, anc.sigma, \\\n",
      "\tphysres.mag_sph_eq_moffat_comb, physres.mag_tot_eq_moffat_comb, \\\n",
      "\tphysres.log_n_maj_moffat_comb, physres.log_n_eq_moffat_comb, \\\n",
      "\tphysres.mu_e_maj_moffat_comb, physres.mu_e_eq_moffat_comb, \\\n",
      "\tphysres.log_r_e_maj_moffat_comb, physres.log_r_e_eq_moffat_comb \\\n",
      "\tFROM Ancillary AS anc \\\n",
      "\tJOIN OneDFitResultsPhysicalUnits AS physres ON anc.gal_id = physres.gal_id \\\n",
      "\tWHERE anc.fit1D_done = 1;'\n",
      "\n",
      "cur.execute(getdata_query)\n",
      "datalist = cur.fetchall()\n",
      "data= np.asarray(datalist).transpose()\n",
      "#print data\n",
      "gal_id = data[0]\n",
      "simplemorphtype = data[1]\n",
      "core = data[2].astype(np.int)\n",
      "bar = data[3].astype(np.int)\n",
      "\n",
      "mbh = data[4].astype(np.float)\n",
      "log_mbh = np.log10(mbh)\n",
      "perr_mbh = data[5].astype(np.float)\n",
      "merr_mbh = data[6].astype(np.float)\n",
      "perr_log_mbh = np.log10(1 + perr_mbh/mbh)\n",
      "merr_log_mbh = -np.log10(1 - merr_mbh/mbh)\n",
      "\n",
      "sigma = data[7].astype(np.float)\n",
      "# assign value to n3079\n",
      "sigma[gal_id=='n3079'] = 105\n",
      "log_sigma = np.log10(sigma)\n",
      "err_log_sigma = sigma*[0.0] + np.log10(1.05)\n",
      "\n",
      "mag_sph = data[8].astype(np.float)\n",
      "mag_tot = data[9].astype(np.float)\n",
      "\n",
      "log_n_maj = data[10].astype(np.float)\n",
      "n_maj = 10**log_n_maj\n",
      "log_n_eq = data[11].astype(np.float)\n",
      "n_eq = 10**log_n_eq\n",
      "\n",
      "mu_e_maj = data[12].astype(np.float)\n",
      "mu_e_eq = data[13].astype(np.float)\n",
      "\n",
      "# compute mu_0\n",
      "b_maj = mu_e_maj * [0.0]\n",
      "for i in range(len(b_maj)):\n",
      "\tb_maj[i] = b_n.computeb_n(n_maj[i])\n",
      "b_eq = mu_e_eq * [0.0]\n",
      "for i in range(len(b_eq)):\n",
      "\tb_eq[i] = b_n.computeb_n(n_eq[i])\n",
      "\n",
      "mu_0_maj = mu_e_maj - 2.5*b_maj/np.log(10)\n",
      "mu_0_eq = mu_e_eq - 2.5*b_eq/np.log(10)\n",
      "\n",
      "log_r_e_maj = data[14].astype(np.float)\n",
      "r_e_maj = 10**log_r_e_maj\n",
      "log_r_e_eq = data[15].astype(np.float)\n",
      "r_e_eq = 10**log_r_e_eq"
     ],
     "language": "python",
     "metadata": {},
     "outputs": [],
     "prompt_number": 2
    },
    {
     "cell_type": "heading",
     "level": 1,
     "metadata": {},
     "source": [
      "Build 3-dimensional dataset"
     ]
    },
    {
     "cell_type": "code",
     "collapsed": false,
     "input": [
      "#all_samples = np.array([mag_sph, log_sigma, log_r_e_maj])\n",
      "all_samples = np.array([mag_sph, log_sigma, numpy.random.rand(len(mag_sph))])\n",
      "print all_samples\n",
      "#mag_sph_early = np.concatenate((mag_sph[simplemorphtype=='E'], mag_sph[simplemorphtype=='E/S0'], mag_sph[simplemorphtype=='S0']), axis=0)\n",
      "#log_sigma_early = np.concatenate((log_sigma[simplemorphtype=='E'], log_sigma[simplemorphtype=='E/S0'], log_sigma[simplemorphtype=='S0']), axis=0)\n",
      "#log_r_e_maj_early = np.concatenate((log_r_e_maj[simplemorphtype=='E'], log_r_e_maj[simplemorphtype=='E/S0'], log_r_e_maj[simplemorphtype=='S0']), axis=0)\n",
      "\n",
      "#early_sample = np.array([mag_sph_early, log_sigma_early, log_r_e_maj_early])\n"
     ],
     "language": "python",
     "metadata": {},
     "outputs": [
      {
       "output_type": "stream",
       "stream": "stdout",
       "text": [
        "[[ -2.61533917e+01  -2.22745720e+01  -2.63512720e+01  -2.39111180e+01\n",
        "   -2.42932861e+01  -2.11094625e+01  -2.27408586e+01  -2.65431541e+01\n",
        "   -2.51795000e+01  -2.15377143e+01  -2.30076180e+01  -2.60098652e+01\n",
        "   -2.59974230e+01  -2.44830313e+01  -2.20802634e+01  -2.21498069e+01\n",
        "   -2.31900796e+01  -2.39977793e+01  -2.28206149e+01  -2.20583517e+01\n",
        "   -2.48913647e+01  -2.48906243e+01  -2.36832964e+01  -2.64280086e+01\n",
        "   -2.30002243e+01  -2.12462256e+01  -2.08000243e+01  -2.01095143e+01\n",
        "   -2.29510314e+01  -2.30133517e+01  -2.62812693e+01  -2.42177393e+01\n",
        "   -2.17646802e+01  -2.24311802e+01  -2.34945325e+01  -2.24323922e+01\n",
        "   -2.34814954e+01  -2.43503304e+01  -2.11263293e+01  -2.55169731e+01\n",
        "   -2.53644649e+01  -2.44960243e+01  -2.69998755e+01  -2.23163028e+01\n",
        "   -2.15840697e+01  -2.34008500e+01  -2.57200536e+01  -2.40462009e+01\n",
        "   -2.12597446e+01  -2.34815983e+01  -2.38796572e+01  -2.23044643e+01\n",
        "   -2.27272446e+01  -2.48182243e+01  -2.75418985e+01  -2.09591180e+01\n",
        "   -2.54536861e+01  -2.38868180e+01  -2.44411584e+01  -2.29615027e+01\n",
        "   -2.58143768e+01  -2.67472584e+01  -2.63235404e+01  -2.63511793e+01\n",
        "   -2.69012455e+01  -2.27744268e+01]\n",
        " [  2.48572143e+00   2.15836249e+00   2.52504481e+00   2.47275645e+00\n",
        "    2.32014629e+00   2.12710480e+00   2.23044892e+00   2.47712125e+00\n",
        "    2.35218252e+00   1.95904139e+00   2.20951501e+00   2.47129171e+00\n",
        "    2.52374647e+00   2.40140054e+00   2.01703334e+00   2.10720997e+00\n",
        "    2.40312052e+00   2.30103000e+00   2.30963017e+00   2.35983548e+00\n",
        "    2.35410844e+00   2.50514998e+00   2.22271647e+00   2.51719590e+00\n",
        "    2.16136800e+00   2.15836249e+00   2.20951501e+00   2.32221929e+00\n",
        "    2.35602586e+00   2.02118930e+00   2.47275645e+00   2.40140054e+00\n",
        "    2.12385164e+00   2.32221929e+00   2.14301480e+00   2.17026172e+00\n",
        "    2.29446623e+00   2.37474835e+00   2.02118930e+00   2.31386722e+00\n",
        "    2.35024802e+00   2.28330123e+00   2.43136376e+00   2.48429984e+00\n",
        "    2.25042000e+00   2.19312460e+00   2.48995848e+00   2.45484486e+00\n",
        "    2.02938378e+00   2.25042000e+00   2.25285303e+00   2.19589965e+00\n",
        "    2.17318627e+00   2.23299611e+00   2.54032947e+00   2.00000000e+00\n",
        "    2.40654018e+00   2.07918125e+00   2.23299611e+00   2.37657696e+00\n",
        "    2.37474835e+00   2.49276039e+00   2.44247977e+00   2.46538285e+00\n",
        "    2.40993312e+00   2.02938378e+00]\n",
        " [  8.50069657e-01   1.16402950e-01   6.21199945e-01   1.59508326e-01\n",
        "    8.51813842e-01   9.51029443e-01   1.96301121e-01   8.78180232e-01\n",
        "    5.32203878e-01   1.91445347e-01   7.26318712e-01   7.73975400e-03\n",
        "    3.00369791e-01   4.25856713e-01   9.03977541e-01   3.59669736e-01\n",
        "    6.85630284e-02   4.75665032e-01   7.45933530e-01   7.63145911e-01\n",
        "    2.75101141e-01   9.74682209e-01   6.00486445e-01   1.90780371e-01\n",
        "    7.69667208e-01   5.58871475e-01   2.22061240e-01   7.04329851e-01\n",
        "    6.33549857e-01   2.31381782e-01   7.32517426e-02   1.75823084e-01\n",
        "    2.42870341e-01   9.14198642e-01   9.13047447e-01   1.06513733e-01\n",
        "    7.98471626e-01   1.37108642e-02   4.45617461e-01   5.29798194e-01\n",
        "    7.80325766e-01   6.55313571e-01   1.82305617e-01   5.53103755e-01\n",
        "    9.57095283e-02   4.09725737e-01   8.02866682e-01   3.36360404e-01\n",
        "    2.31370749e-01   2.32973339e-01   6.43224224e-01   2.39355752e-01\n",
        "    9.46277254e-01   3.07782469e-01   5.69269247e-01   5.29351853e-02\n",
        "    8.20985182e-01   4.42525825e-01   7.93168391e-01   8.26768507e-01\n",
        "    9.42757058e-01   4.58986459e-02   8.73931575e-01   8.81281328e-01\n",
        "    7.04554682e-01   8.93390845e-01]]\n"
       ]
      }
     ],
     "prompt_number": 5
    },
    {
     "cell_type": "heading",
     "level": 1,
     "metadata": {},
     "source": [
      "Visual inspection of data"
     ]
    },
    {
     "cell_type": "code",
     "collapsed": false,
     "input": [
      "from matplotlib import pyplot as plt\n",
      "from mpl_toolkits.mplot3d import Axes3D\n",
      "from mpl_toolkits.mplot3d import proj3d\n",
      "\n",
      "fig = plt.figure(figsize=(8,8))\n",
      "ax = fig.add_subplot(111, projection='3d')\n",
      "plt.rcParams['legend.fontsize'] = 10   \n",
      "ax.plot(all_samples[0,:], all_samples[1,:], all_samples[2,:], \n",
      "        'o', markersize=8, color='red', alpha=0.5, label='class1')\n",
      "#ax.plot(late_sample[0,:], late_sample[1,:], late_sample[2,:], \n",
      "#        '^', markersize=8, alpha=0.5, color='blue', label='class2')\n",
      "\n",
      "plt.title('Samples for early ')\n",
      "ax.legend(loc='upper right')\n",
      "\n",
      "plt.show()"
     ],
     "language": "python",
     "metadata": {},
     "outputs": [
      {
       "output_type": "display_data",
       "png": "[encoded data removed]"
      }
     ],
     "prompt_number": 6
    },
    {
     "cell_type": "heading",
     "level": 1,
     "metadata": {},
     "source": [
      "Using the PCA() class from the sklearn.decomposition library"
     ]
    },
    {
     "cell_type": "code",
     "collapsed": false,
     "input": [
      "all_samples.T.shape\n",
      "#print all_samples.T"
     ],
     "language": "python",
     "metadata": {},
     "outputs": [
      {
       "output_type": "pyout",
       "prompt_number": 7,
       "text": [
        "(66, 3)"
       ]
      }
     ],
     "prompt_number": 7
    },
    {
     "cell_type": "code",
     "collapsed": false,
     "input": [
      "average_matrix = np.array([np.average(all_samples.T, axis=0),]*all_samples.T.shape[0])\n",
      "all_samples_T_norm = all_samples.T - average_matrix"
     ],
     "language": "python",
     "metadata": {},
     "outputs": [],
     "prompt_number": 8
    },
    {
     "cell_type": "code",
     "collapsed": false,
     "input": [
      "from sklearn.decomposition import PCA as sklearnPCA\n",
      "\n",
      "sklearn_pca = sklearnPCA(n_components=3)\n",
      "sklearn_transf = sklearn_pca.fit_transform(all_samples_T_norm)"
     ],
     "language": "python",
     "metadata": {},
     "outputs": [],
     "prompt_number": 9
    },
    {
     "cell_type": "code",
     "collapsed": false,
     "input": [
      "sklearn_transf.shape"
     ],
     "language": "python",
     "metadata": {},
     "outputs": [
      {
       "output_type": "pyout",
       "prompt_number": 10,
       "text": [
        "(66, 3)"
       ]
      }
     ],
     "prompt_number": 10
    },
    {
     "cell_type": "code",
     "collapsed": false,
     "input": [
      "# this has to be zero\n",
      "#all_samples_T_norm - np.dot(sklearn_transf, sklearn_pca.components_)\n",
      "#all_samples_T_norm_rec = np.dot(sklearn_transf, sklearn_pca.components_)"
     ],
     "language": "python",
     "metadata": {},
     "outputs": [],
     "prompt_number": 79
    },
    {
     "cell_type": "code",
     "collapsed": false,
     "input": [
      "print sklearn_pca.explained_variance_ratio_"
     ],
     "language": "python",
     "metadata": {},
     "outputs": [
      {
       "output_type": "stream",
       "stream": "stdout",
       "text": [
        "[ 0.97043073  0.02640188  0.00316739]\n"
       ]
      }
     ],
     "prompt_number": 11
    },
    {
     "cell_type": "code",
     "collapsed": false,
     "input": [
      "sklearn_pca.components_.shape\n",
      "print sklearn_pca.components_\n",
      "u = sklearn_pca.components_[0,:]\n",
      "v = sklearn_pca.components_[1,:]\n",
      "n = sklearn_pca.components_[2,:]\n",
      "print 'first eigenvector', sklearn_pca.components_[0,:]\n",
      "print 'second eigenvector', sklearn_pca.components_[1,:]\n",
      "print 'third eigenvector', sklearn_pca.components_[2,:]\n",
      "\n",
      "\n",
      "#cross product\n",
      "#n = np.cross(u,v)\n",
      "#print 'n = ', n\n"
     ],
     "language": "python",
     "metadata": {},
     "outputs": [
      {
       "output_type": "stream",
       "stream": "stdout",
       "text": [
        "[[  9.97882115e-01  -6.31089083e-02  -1.57654601e-02]\n",
        " [ -1.57605573e-02   5.75530617e-04  -9.99875629e-01]\n",
        " [ -6.31101329e-02  -9.98006480e-01   4.20319855e-04]]\n",
        "first eigenvector [ 0.99788212 -0.06310891 -0.01576546]\n",
        "second eigenvector [ -1.57605573e-02   5.75530617e-04  -9.99875629e-01]\n",
        "third eigenvector [ -6.31101329e-02  -9.98006480e-01   4.20319855e-04]\n"
       ]
      }
     ],
     "prompt_number": 12
    },
    {
     "cell_type": "code",
     "collapsed": false,
     "input": [
      "from mpl_toolkits.mplot3d import Axes3D\n",
      "\n",
      "fig = plt.figure(figsize=(7,7))\n",
      "ax = fig.add_subplot(111, projection='3d')\n",
      "\n",
      "ax.plot(early_sample[0,:]-np.mean(early_sample[0,:]), early_sample[1,:]-np.mean(early_sample[1,:]), early_sample[2,:]-np.mean(early_sample[2,:]),  \n",
      "        'o', markersize=8, color='green', alpha=1.)\n",
      "\n",
      "#for k in sklearn_pca.components_:\n",
      "for k in [u,v,n]:\n",
      "    print k\n",
      "    a = Arrow3D([0, k[0]], \n",
      "                [0, k[1]], \n",
      "                [0, k[2]], \n",
      "                mutation_scale=20, lw=3, arrowstyle=\"-|>\", color=\"r\")\n",
      "\n",
      "    ax.add_artist(a)\n",
      "\n",
      "ax.scatter(n[0], n[1], n[2], color='pink')    \n",
      "    \n",
      "#ax.set_xlim([-3,3])\n",
      "#ax.set_ylim([-0.5,0.5])\n",
      "#ax.set_zlim([-0.3,0.3])\n",
      "\n",
      "    \n",
      "ax.set_xlabel('MAG_sph')\n",
      "ax.set_ylabel('log(sigma)')\n",
      "ax.set_zlabel('log(R_e)')\n",
      "\n",
      "plt.title('Eigenvectors')\n",
      "\n",
      "xx,yy = np.meshgrid(np.arange(-5,5), np.arange(-1,1,0.1))\n",
      "zz1 = (-n[0]/n[2])*xx + (-n[1]/n[2])*yy\n",
      "zz2 = (-v[0]/v[2])*xx + (-v[1]/v[2])*yy\n",
      "ax.plot_surface(xx,yy,zz1, alpha=0.1, color='blue')\n",
      "ax.plot_surface(xx,yy,zz2, alpha=0.1, color='red')\n",
      "\n",
      "tt = np.arange(-5,5)\n",
      "ax.plot(tt*u[0], tt*u[1], tt*u[2], color='pink')\n",
      "\n",
      "\n",
      "\n",
      "plt.show()"
     ],
     "language": "python",
     "metadata": {},
     "outputs": [
      {
       "output_type": "stream",
       "stream": "stdout",
       "text": [
        "[ 0.93313568 -0.04072524 -0.35721037]\n",
        "[ 0.34028566 -0.22061571  0.9140757 ]\n",
        "[ 0.11603218  0.97451022  0.19200618]\n"
       ]
      }
     ],
     "prompt_number": 92
    },
    {
     "cell_type": "heading",
     "level": 1,
     "metadata": {},
     "source": [
      "Fundamental plane"
     ]
    },
    {
     "cell_type": "code",
     "collapsed": false,
     "input": [
      "plt.plot((-n[1]/n[0])*(early_sample[1,:]-np.average(early_sample[1,:]))+(-n[2]/n[0])*(early_sample[2,:]-np.average(early_sample[2,:])),\n",
      "         early_sample[0,:]-np.average(early_sample[0,:]), \n",
      "         'o', markersize=7, color='red', alpha=0.5, label='fundamental plane')\n",
      "\n",
      "plt.plot((-n[1]/n[0])*(early_sample[1,:]-np.average(early_sample[1,:])),early_sample[0,:]-np.average(early_sample[0,:]), \n",
      "         'o', markersize=7, color='blue', alpha=0.5, label='ignoring R_e contribution')\n",
      "\n",
      "plt.xlabel('x')\n",
      "plt.ylabel('y')\n",
      "plt.legend()\n",
      "plt.title('Transformed samples using sklearn.decomposition.PCA()')\n",
      "plt.show()\n",
      "\n"
     ],
     "language": "python",
     "metadata": {},
     "outputs": [],
     "prompt_number": 44
    },
    {
     "cell_type": "code",
     "collapsed": false,
     "input": [],
     "language": "python",
     "metadata": {},
     "outputs": [
      {
       "output_type": "stream",
       "stream": "stdout",
       "text": [
        "[-0.  0.  0.]\n"
       ]
      }
     ],
     "prompt_number": 73
    },
    {
     "cell_type": "code",
     "collapsed": false,
     "input": [],
     "language": "python",
     "metadata": {},
     "outputs": []
    }
   ],
   "metadata": {}
  }
 ]
}